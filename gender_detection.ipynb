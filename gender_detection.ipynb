{
 "cells": [
  {
   "cell_type": "markdown",
   "id": "d333515a",
   "metadata": {},
   "source": [
    "<h1 align=center style=\"line-height:200%;font-family:vazir;color:#0099cc\">\n",
    "Gender Detection\n",
    "</font>\n",
    "</h1>"
   ]
  },
  {
   "cell_type": "markdown",
   "id": "6ed20bff",
   "metadata": {},
   "source": [
    "<h2 align=left style=\"line-height:200%;font-family:vazir;color:#0099cc\">\n",
    "<font face=\"vazir\" color=\"#0099cc\">\n",
    "Problem Statement\n",
    "</font>\n",
    "</h2>\n",
    "\n",
    "<p dir=rtl style=\"direction: ltr; text-align: justify; line-height:200%; font-family:vazir; font-size:medium\">\n",
    "<font face=\"vazir\" size=3>\n",
    "   Today, social networks have a wide range of uses. Its first use is for entertainment and leisure. But from another perspective, social networks can be used to find behavioral patterns. For example, by analyzing the opinions of social network users, we can find the weaknesses of our business.\n",
    "    <br>\n",
    "    Gender is one of the influential parameters in user behavior. When faced with a topic, women will mostly react one way and men will react differently!\n",
    "    <br>\n",
    "    Now, in this exercise, we intend to predict the gender of Twitter and Instagram users using the information that Datak has provided us with.\n",
    "</font>\n",
    "</p>"
   ]
  },
  {
   "cell_type": "markdown",
   "id": "c5af1784",
   "metadata": {},
   "source": [
    "<h2 align=left style=\"line-height:200%;font-family:vazir;color:#0099cc\">\n",
    "<font face=\"vazir\" color=\"#0099cc\">\n",
    "Importing the required libraries\n",
    "</font>\n",
    "</h2>"
   ]
  },
  {
   "cell_type": "code",
   "execution_count": 44,
   "id": "99450f9e",
   "metadata": {},
   "outputs": [],
   "source": [
    "import numpy as np\n",
    "import pandas as pd "
   ]
  },
  {
   "cell_type": "markdown",
   "id": "72faaed8",
   "metadata": {},
   "source": [
    "<h2 align=left style=\"line-height:200%;font-family:vazir;color:#0099cc\">\n",
    "<font face=\"vazir\" color=\"#0099cc\">\n",
    "Introduction to the dataset\n",
    "</font>\n",
    "</h2>\n",
    "\n",
    "<p dir=ltr style=\"direction: ltr; text-align: justify; line-height:200%; font-family:vazir; font-size:medium\">\n",
    "<font face=\"vazir\" size=3>\n",
    "The training dataset has 8000 rows and 10 columns. The table below provides more information about the data.\n",
    "</font>\n",
    "</p>\n",
    "\n",
    "<center>\n",
    "<div dir=ltr style=\"direction: ltr;line-height:200%;font-family:vazir;font-size:medium\">\n",
    "<font face=\"vazir\" size=3>\n",
    "    \n",
    "|column|Description|\n",
    "|:------:|:---:|\n",
    "|gender|Gender (target column)|\n",
    "|age|User age range|\n",
    "|fullname|The name written on the social network profile|\n",
    "|username|username|\n",
    "|biography|User's social network biography|\n",
    "|follower_count|Number of followers of the user|\n",
    "|following_count|Number of users that the user follows|\n",
    "|is_business|The account is a business account.|\n",
    "|is_verified|The account is a verified account.|\n",
    "|is_private|The account is a private account.|\n",
    "    \n",
    "</font>\n",
    "</div>\n",
    "</center>\n",
    "\n",
    "\n",
    "<p dir=ltr style=\"direction: ltr; text-align: justify; line-height:200%; font-family:vazir; font-size:medium\">\n",
    "<font face=\"vazir\" size=3>\n",
    "    The <code>age</code> column is not a continuous variable; it represents age categories. The table below shows how age is mapped.\n",
    "</font>\n",
    "</p>\n",
    "\n",
    "\n",
    "<center>\n",
    "<div dir=ltr style=\"direction: ltr;line-height:200%;font-family:vazir;font-size:medium\">\n",
    "<font face=\"vazir\" size=3>\n",
    "    \n",
    "|Real age of user|Mapped number|\n",
    "|:------:|:---:|\n",
    "|Under 18|1|\n",
    "|between 19 and 29|2|\n",
    "|between 30 and 39|3|\n",
    "|over 40|4|\n",
    "    \n",
    "</font>\n",
    "</div>\n",
    "</center>\n"
   ]
  },
  {
   "cell_type": "markdown",
   "id": "e99bbe9b",
   "metadata": {},
   "source": [
    "<h2 align=left style=\"line-height:200%;font-family:vazir;color:#0099cc\">\n",
    "<font face=\"vazir\" color=\"#0099cc\">\n",
    "Reading the dataset</font>\n",
    "</h2>"
   ]
  },
  {
   "cell_type": "code",
   "execution_count": 39,
   "id": "7dcb9e87",
   "metadata": {},
   "outputs": [],
   "source": [
    "train = pd.read_csv('data/train_data.csv')\n",
    "test = pd.read_csv('data/test_data.csv')\n",
    "# train.head()"
   ]
  },
  {
   "cell_type": "markdown",
   "id": "23daec54",
   "metadata": {},
   "source": [
    "<h2 align=left style=\"line-height:200%;font-family:vazir;color:#0099cc\">\n",
    "<font face=\"vazir\" color=\"#0099cc\">\n",
    "Preprocessing and feature engineering\n",
    "</font>\n",
    "</h2>"
   ]
  },
  {
   "cell_type": "code",
   "execution_count": 45,
   "metadata": {},
   "outputs": [],
   "source": [
    "from sklearn.feature_extraction.text import TfidfVectorizer\n",
    "\n",
    "train.is_business = train.is_business.fillna(0)\n",
    "\n",
    "\n",
    "train['text_combined'] = train['fullname'] + ' ' + train['username'] + ' ' + train['biography']\n",
    "\n",
    "\n",
    "tfidf_vectorizer = TfidfVectorizer(max_features=1000, stop_words='english')\n",
    "\n",
    "\n",
    "tfidf_matrix = tfidf_vectorizer.fit_transform(train['text_combined'])\n",
    "\n",
    "\n",
    "tfidf_df = pd.DataFrame(tfidf_matrix.toarray(), columns=tfidf_vectorizer.get_feature_names_out())\n",
    "\n",
    "\n",
    "combined_df = pd.concat([train[['age', 'follower_count', 'following_count', 'is_business', 'is_verified', 'is_private']], tfidf_df], axis=1)\n"
   ]
  },
  {
   "cell_type": "code",
   "execution_count": 46,
   "id": "7fad899c",
   "metadata": {},
   "outputs": [],
   "source": [
    "test.is_business = test.is_business.fillna(0)\n",
    "\n",
    "\n",
    "test['text_combined'] = test['fullname'] + ' ' + test['username'] + ' ' + test['biography']\n",
    "\n",
    "tfidf_vectorizer = TfidfVectorizer(max_features=1000, stop_words='english')\n",
    "\n",
    "tfidf_matrix = tfidf_vectorizer.fit_transform(test['text_combined'])\n",
    "\n",
    "tfidf_df = pd.DataFrame(tfidf_matrix.toarray(), columns=tfidf_vectorizer.get_feature_names_out())\n",
    "\n",
    "combined_df_test = pd.concat([test[['age', 'follower_count', 'following_count', 'is_business', 'is_verified', 'is_private']], tfidf_df], axis=1)\n",
    "\n",
    "\n",
    "common_columns = list(set(combined_df.columns) & set(combined_df_test.columns))\n",
    "x_train = combined_df[common_columns]\n",
    "y_train = train.gender\n",
    "x_test = combined_df_test[common_columns]\n",
    "\n"
   ]
  },
  {
   "cell_type": "markdown",
   "id": "f99f2c94",
   "metadata": {},
   "source": [
    "<h2 align=left style=\"line-height:200%;font-family:vazir;color:#0099cc\">\n",
    "<font face=\"vazir\" color=\"#0099cc\">\n",
    "Modeling\n",
    "</font>\n",
    "</h2>"
   ]
  },
  {
   "cell_type": "code",
   "execution_count": 47,
   "id": "6fcb5ae2",
   "metadata": {},
   "outputs": [],
   "source": [
    "# modeling :)\n",
    "from sklearn.tree import DecisionTreeClassifier\n",
    "\n",
    "model = DecisionTreeClassifier(max_depth=30)\n",
    "model.fit(x_train,y_train);"
   ]
  },
  {
   "cell_type": "markdown",
   "id": "33da5d2a",
   "metadata": {},
   "source": [
    "<h3 align=left style=\"line-height:200%;font-family:vazir;color:#0099cc\">\n",
    "<font face=\"vazir\" color=\"#0099cc\">\n",
    "Evaluation criteria\n",
    "</font>\n",
    "</h3>\n"
   ]
  },
  {
   "cell_type": "code",
   "execution_count": 48,
   "id": "2121dbff",
   "metadata": {},
   "outputs": [
    {
     "data": {
      "text/plain": [
       "0.8422590068159689"
      ]
     },
     "execution_count": 48,
     "metadata": {},
     "output_type": "execute_result"
    }
   ],
   "source": [
    "# evaluate model :)\n",
    "from sklearn.metrics import f1_score\n",
    "\n",
    "f1_score(y_train,model.predict(x_train),pos_label='man')\n"
   ]
  },
  {
   "cell_type": "markdown",
   "id": "ddad09cf",
   "metadata": {},
   "source": [
    "<p dir=ltr style=\"direction: ltr; text-align: justify; line-height:200%; font-family:vazir; font-size:medium\">\n",
    "<font color=\"red\"><b color='red'>Attention:</b></font>\n",
    "<font face=\"vazir\" size=3>\n",
    "To earn full points, your answer needs to score at least <code>75%</code> according to the introduced criteria.\n",
    "</font>\n",
    "</p>"
   ]
  }
 ],
 "metadata": {
  "kernelspec": {
   "display_name": "env",
   "language": "python",
   "name": "python3"
  },
  "language_info": {
   "codemirror_mode": {
    "name": "ipython",
    "version": 3
   },
   "file_extension": ".py",
   "mimetype": "text/x-python",
   "name": "python",
   "nbconvert_exporter": "python",
   "pygments_lexer": "ipython3",
   "version": "3.12.6"
  }
 },
 "nbformat": 4,
 "nbformat_minor": 5
}
